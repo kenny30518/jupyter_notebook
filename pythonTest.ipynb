{
 "cells": [
  {
   "cell_type": "markdown",
   "id": "a50f1d63-0e7d-4308-bd53-703c77feac20",
   "metadata": {},
   "source": [
    "### Python test\n",
    "#### This is a test for binder\n",
    "We assign the text which is type by users to a varible."
   ]
  },
  {
   "cell_type": "code",
   "execution_count": 9,
   "id": "81138bff-23d4-4cf8-9d6a-992efffa5c95",
   "metadata": {},
   "outputs": [
    {
     "name": "stdin",
     "output_type": "stream",
     "text": [
      "Enter your username kenny\n",
      "Enter your password 123\n"
     ]
    }
   ],
   "source": [
    "account=input(\"Enter your username\")\n",
    "pwd=input(\"Enter your password\")"
   ]
  },
  {
   "cell_type": "markdown",
   "id": "d4533292-3615-4b4f-8417-3ad8b3618b93",
   "metadata": {},
   "source": [
    "Here we can show our result out by using **print()** function."
   ]
  },
  {
   "cell_type": "code",
   "execution_count": 15,
   "id": "3731db33-a14f-405c-b15f-4e7d95a7958e",
   "metadata": {},
   "outputs": [
    {
     "name": "stdout",
     "output_type": "stream",
     "text": [
      "kenny welcome back!\n"
     ]
    }
   ],
   "source": [
    "print(account+\" welcome back!\")"
   ]
  },
  {
   "cell_type": "code",
   "execution_count": null,
   "id": "a14690b4-a7e5-4faa-8594-8032651aaabb",
   "metadata": {},
   "outputs": [],
   "source": []
  }
 ],
 "metadata": {
  "kernelspec": {
   "display_name": "Python 3",
   "language": "python",
   "name": "python3"
  },
  "language_info": {
   "codemirror_mode": {
    "name": "ipython",
    "version": 3
   },
   "file_extension": ".py",
   "mimetype": "text/x-python",
   "name": "python",
   "nbconvert_exporter": "python",
   "pygments_lexer": "ipython3",
   "version": "3.8.8"
  }
 },
 "nbformat": 4,
 "nbformat_minor": 5
}
